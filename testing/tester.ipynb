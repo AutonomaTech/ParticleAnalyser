{
 "cells": [
  {
   "cell_type": "code",
   "execution_count": null,
   "metadata": {},
   "outputs": [],
   "source": []
  },
  {
   "cell_type": "code",
   "execution_count": 6,
   "metadata": {},
   "outputs": [],
   "source": [
    "import os, sys\n",
    "parent_dir = os.path.abspath('..')\n",
    "# the parent_dir could already be there if the kernel was not restarted,\n",
    "# and we run this cell again\n",
    "if parent_dir not in sys.path:\n",
    "    sys.path.append(parent_dir)\n",
    "\n",
    "\n",
    "# !{sys.executable} -m pip install -r requirements.txt\n",
    "import ImageAnalysisModel as pa\n"
   ]
  },
  {
   "cell_type": "code",
   "execution_count": 8,
   "metadata": {},
   "outputs": [
    {
     "name": "stdout",
     "output_type": "stream",
     "text": [
      "Image found: c:\\Users\\Work\\GitHub\\ParticleAnalyser\\testing\\quality-test-files\\circle-checker\\circle\\circle.png\n"
     ]
    }
   ],
   "source": [
    "checkpoint_folder = os.path.join(os.path.abspath('.'), 'checkpoints')\n",
    "analyser = pa.ImageAnalysisModel(os.path.join(os.path.abspath('.'), 'testing\\\\quality-test-files\\\\circle-checker\\\\circle\\\\'), 1, \"circle\")\n",
    "\n",
    "from testing import qualitytester\n",
    "bins = qualitytester.BINS"
   ]
  },
  {
   "cell_type": "code",
   "execution_count": 9,
   "metadata": {},
   "outputs": [
    {
     "name": "stdout",
     "output_type": "stream",
     "text": [
      "\u001b[32m2024-12-01 20:36:00.728\u001b[0m | \u001b[1mINFO    \u001b[0m | \u001b[36mParticleSegmentationModel\u001b[0m:\u001b[36mgenerate_mask\u001b[0m:\u001b[36m99\u001b[0m - \u001b[1mGenerating masks - image: c:\\Users\\Work\\GitHub\\ParticleAnalyser\\testing\\quality-test-files\\circle-checker\\circle\\circle.png, scaling factor: 0.0006666666666666666 um/px, sam_checkpoint: c:\\Users\\Work\\GitHub\\ParticleAnalyser\\checkpoints\\sam2.1_hiera_large.pt, points_per_side: 150,points_per_batch: 128, pred_iou_thresh: 0.8, stability_score_thresh: 0.92,             stability_score_offset:0.8, crop_n_layers: 2, crop_n_points_downscale_factor: 2, min_mask_region_area: 0.0, box_nms_tresh: 0.9, use_m2m: (True,)\u001b[0m\n",
      "using device: cuda\n"
     ]
    }
   ],
   "source": [
    "analyser.analyseParticles(checkpoint_folder, False)"
   ]
  }
 ],
 "metadata": {
  "kernelspec": {
   "display_name": "Python 3",
   "language": "python",
   "name": "python3"
  },
  "language_info": {
   "codemirror_mode": {
    "name": "ipython",
    "version": 3
   },
   "file_extension": ".py",
   "mimetype": "text/x-python",
   "name": "python",
   "nbconvert_exporter": "python",
   "pygments_lexer": "ipython3",
   "version": "3.12.7"
  }
 },
 "nbformat": 4,
 "nbformat_minor": 2
}
